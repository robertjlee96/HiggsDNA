{
 "cells": [
  {
   "cell_type": "markdown",
   "metadata": {},
   "source": [
    "# Basic Example\n",
    "\n",
    "This short notebook shows how to get started with HiggsDNA and [Coffea](https://github.com/CoffeaTeam/coffea)."
   ]
  },
  {
   "cell_type": "code",
   "execution_count": null,
   "metadata": {},
   "outputs": [],
   "source": [
    "from higgs_dna.utils.logger_utils import setup_logger\n",
    "from higgs_dna.workflows import DYStudiesProcessor\n",
    "\n",
    "from coffea import processor\n",
    "import json\n",
    "from importlib import resources"
   ]
  },
  {
   "cell_type": "code",
   "execution_count": null,
   "metadata": {},
   "outputs": [],
   "source": [
    "fileset = {\n",
    "    \"DYJetsToLL_0J_TuneCP5_13TeV-amcatnloFXFX-pythia8\": [\n",
    "        \"root://cms-xrd-global.cern.ch//store/user/gallim/HggNanoDY_10_6_26-das/DYJetsToLL_0J_TuneCP5_13TeV-amcatnloFXFX-pythia8/crab_HggNANO_UL17_DY-das/220126_135531/0000/DY-RunIISummer19UL17NanoAODv2_1-17.root\"\n",
    "    ]\n",
    "}"
   ]
  },
  {
   "cell_type": "code",
   "execution_count": null,
   "metadata": {},
   "outputs": [],
   "source": [
    "with resources.open_text(\"higgs_dna.metaconditions\", \"Era2017_legacy_xgb_v1.json\") as f:\n",
    "    metaconditions = json.load(f)"
   ]
  },
  {
   "cell_type": "code",
   "execution_count": null,
   "metadata": {},
   "outputs": [],
   "source": [
    "processor_instance = DYStudiesProcessor(\n",
    "    metaconditions=metaconditions,\n",
    "    do_systematics=False,\n",
    "    apply_trigger=True,\n",
    "    output_location=\"output/basics\"\n",
    ")"
   ]
  },
  {
   "cell_type": "code",
   "execution_count": null,
   "metadata": {},
   "outputs": [],
   "source": [
    "iterative_run = processor.Runner(\n",
    "    executor = processor.IterativeExecutor(compression=None),\n",
    "    schema=processor.NanoAODSchema,\n",
    ")\n",
    "\n",
    "out = iterative_run(\n",
    "    fileset,\n",
    "    treename=\"Events\",\n",
    "    processor_instance=processor_instance,\n",
    ")"
   ]
  }
 ],
 "metadata": {
  "interpreter": {
   "hash": "ef036038d0a1fe8d8c7adb63ccac111bea6e7f25fb04bf71efe9f740e7c4b462"
  },
  "kernelspec": {
   "display_name": "Python 3 (ipykernel)",
   "language": "python",
   "name": "python3"
  },
  "language_info": {
   "codemirror_mode": {
    "name": "ipython",
    "version": 3
   },
   "file_extension": ".py",
   "mimetype": "text/x-python",
   "name": "python",
   "nbconvert_exporter": "python",
   "pygments_lexer": "ipython3",
   "version": "3.9.9"
  }
 },
 "nbformat": 4,
 "nbformat_minor": 4
}
